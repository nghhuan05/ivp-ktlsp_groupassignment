{
  "nbformat": 4,
  "nbformat_minor": 0,
  "metadata": {
    "colab": {
      "provenance": [],
      "authorship_tag": "ABX9TyMQ0AWEATkrV9GE5iJiRhhU",
      "include_colab_link": true
    },
    "kernelspec": {
      "name": "python3",
      "display_name": "Python 3"
    },
    "language_info": {
      "name": "python"
    }
  },
  "cells": [
    {
      "cell_type": "markdown",
      "metadata": {
        "id": "view-in-github",
        "colab_type": "text"
      },
      "source": [
        "<a href=\"https://colab.research.google.com/github/nghhuan05/ivp-ktlsp_groupassignment/blob/main/2_2_4_B%C3%A0i_t%E1%BA%ADp_th%E1%BB%B1c_h%C3%A0nh_2.ipynb\" target=\"_parent\"><img src=\"https://colab.research.google.com/assets/colab-badge.svg\" alt=\"Open In Colab\"/></a>"
      ]
    },
    {
      "cell_type": "code",
      "source": [
        "\n",
        "import numpy as np\n",
        "import pandas as pd\n",
        "from sklearn import datasets\n",
        "from sklearn.model_selection import train_test_split\n",
        "\n",
        "df = pd.read_csv('data.csv')\n",
        "print(df.shape)\n",
        "print(df.columns)\n",
        "df.head()\n",
        "\n",
        "# Select the symptom columns and the target column\n",
        "symptom_cols = ['symptoms1', 'symptoms2', 'symptoms3', 'symptoms4', 'symptoms5']\n",
        "target_col = 'Dangerous'\n",
        "\n",
        "# Drop rows with missing values in the target column\n",
        "df.dropna(subset=[target_col], inplace=True)\n",
        "\n",
        "# Perform one-hot encoding on the symptom columns\n",
        "X = pd.get_dummies(df[symptom_cols])\n",
        "y = df[target_col]\n",
        "\n",
        "\n",
        "# Split the data into training and testing sets\n",
        "X_train, X_test, y_train, y_test = train_test_split(X, y, test_size=0.2, random_state=24)\n",
        "\n",
        "print(\"\\nData after one-hot encoding and splitting:\")\n",
        "print(\"X_train shape:\", X_train.shape)\n",
        "print(\"y_train shape:\", y_train.shape)\n",
        "print(\"X_test shape:\", X_test.shape)\n",
        "print(\"y_test shape:\", y_test.shape)"
      ],
      "metadata": {
        "colab": {
          "base_uri": "https://localhost:8080/"
        },
        "id": "fNNrBtHEmM3N",
        "outputId": "7a9c485b-28d2-4d40-a262-8ea6d414441b"
      },
      "execution_count": null,
      "outputs": [
        {
          "output_type": "stream",
          "name": "stdout",
          "text": [
            "(871, 7)\n",
            "Index(['AnimalName', 'symptoms1', 'symptoms2', 'symptoms3', 'symptoms4',\n",
            "       'symptoms5', 'Dangerous'],\n",
            "      dtype='object')\n",
            "\n",
            "Data after one-hot encoding and splitting:\n",
            "X_train shape: (695, 1107)\n",
            "y_train shape: (695,)\n",
            "X_test shape: (174, 1107)\n",
            "y_test shape: (174,)\n"
          ]
        }
      ]
    },
    {
      "cell_type": "code",
      "source": [
        "from sklearn import svm\n",
        "# Khởi tạo mô hình phân lớp\n",
        "clf = svm.SVC()\n",
        "# Train the model using the one-hot encoded training data\n",
        "clf.fit(X_train.fillna(0), y_train)\n",
        "\n",
        "print(\"\\nSVM model trained successfully!\")"
      ],
      "metadata": {
        "colab": {
          "base_uri": "https://localhost:8080/"
        },
        "id": "Yl7QQfA9vOUz",
        "outputId": "ad48c376-e455-4528-aeb6-c92e4dd0a14f"
      },
      "execution_count": null,
      "outputs": [
        {
          "output_type": "stream",
          "name": "stdout",
          "text": [
            "\n",
            "SVM model trained successfully!\n"
          ]
        }
      ]
    },
    {
      "cell_type": "code",
      "source": [
        "# Tính độ chính xác trên tập huấn luyện và tập kiểm tra\n",
        "train_acc = clf.score(X_train, y_train)\n",
        "val_acc = clf.score(X_test, y_test)\n",
        "print('Training accuracy: {}'. format(train_acc))\n",
        "print('Validation accuracy: {}'. format(val_acc))"
      ],
      "metadata": {
        "colab": {
          "base_uri": "https://localhost:8080/"
        },
        "id": "lNJigW3Ivpw0",
        "outputId": "419cac3b-4061-4c5c-ac64-5a66e94413b0"
      },
      "execution_count": null,
      "outputs": [
        {
          "output_type": "stream",
          "name": "stdout",
          "text": [
            "Training accuracy: 1.0\n",
            "Validation accuracy: 1.0\n"
          ]
        }
      ]
    },
    {
      "cell_type": "code",
      "source": [
        "kernels = ['linear', 'poly', 'rbf', 'sigmoid']\n",
        "best_svm = None\n",
        "best_val_acc = -1\n",
        "best_kernel = None\n",
        "# Huấn luyện các mô hình dựa trên dữ liệu huấn luyện và tham số kernel\n",
        "# Tính toán độ chính xác trên tập huấn luyện và tập kiểm tra để tìm được mô hình tốt nhất\n",
        "for i in range(4):\n",
        "  clf = svm.SVC(kernel=kernels[i], probability=True)\n",
        "  clf.fit(X_train, y_train)\n",
        "  tmp_val_acc = clf.score(X_test, y_test)\n",
        "  if (tmp_val_acc > best_val_acc):\n",
        "    best_val_acc = tmp_val_acc\n",
        "    best_svm = clf\n",
        "    best_kernel = kernels[i]\n",
        "# Hiển thị mô hình tốt nhất cùng độ chính xác\n",
        "print(\"Best validation accuracy : {} with kernel: {}\". format(best_val_acc, best_kernel))"
      ],
      "metadata": {
        "colab": {
          "base_uri": "https://localhost:8080/"
        },
        "id": "Fk2y95OFwA20",
        "outputId": "1ea1d5dc-8c26-48d3-d19b-5fc9af409353"
      },
      "execution_count": null,
      "outputs": [
        {
          "output_type": "stream",
          "name": "stdout",
          "text": [
            "Best validation accuracy : 1.0 with kernel: linear\n"
          ]
        }
      ]
    }
  ]
}