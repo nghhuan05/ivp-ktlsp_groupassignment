{
 "cells": [
  {
   "cell_type": "code",
   "execution_count": 2,
   "id": "8db4e877-6cb7-4f7c-b6e1-2d0c6226c203",
   "metadata": {},
   "outputs": [
    {
     "name": "stdout",
     "output_type": "stream",
     "text": [
      "--- Dữ liệu 5 dòng đầu (trước khi làm sạch) ---\n",
      "   Pregnancies  Glucose  BloodPressure  SkinThickness  Insulin   BMI  \\\n",
      "0            6      148             72             35        0  33.6   \n",
      "1            1       85             66             29        0  26.6   \n",
      "2            8      183             64              0        0  23.3   \n",
      "3            1       89             66             23       94  28.1   \n",
      "4            0      137             40             35      168  43.1   \n",
      "\n",
      "   DiabetesPedigreeFunction  Age  Outcome  \n",
      "0                     0.627   50        1  \n",
      "1                     0.351   31        0  \n",
      "2                     0.672   32        1  \n",
      "3                     0.167   21        0  \n",
      "4                     2.288   33        1  \n",
      "\n",
      "--- Thông tin và kiểu dữ liệu (trước khi làm sạch) ---\n",
      "<class 'pandas.core.frame.DataFrame'>\n",
      "RangeIndex: 768 entries, 0 to 767\n",
      "Data columns (total 9 columns):\n",
      " #   Column                    Non-Null Count  Dtype  \n",
      "---  ------                    --------------  -----  \n",
      " 0   Pregnancies               768 non-null    int64  \n",
      " 1   Glucose                   768 non-null    int64  \n",
      " 2   BloodPressure             768 non-null    int64  \n",
      " 3   SkinThickness             768 non-null    int64  \n",
      " 4   Insulin                   768 non-null    int64  \n",
      " 5   BMI                       768 non-null    float64\n",
      " 6   DiabetesPedigreeFunction  768 non-null    float64\n",
      " 7   Age                       768 non-null    int64  \n",
      " 8   Outcome                   768 non-null    int64  \n",
      "dtypes: float64(2), int64(7)\n",
      "memory usage: 54.1 KB\n",
      "\n",
      "Kích thước dữ liệu ban đầu: (768, 9)\n"
     ]
    }
   ],
   "source": [
    "# Import các thư viện cần thiết\n",
    "import numpy as np\n",
    "import matplotlib.pyplot as plt\n",
    "import seaborn as sns\n",
    "from scipy import stats # Để tính mode và iqr\n",
    "\n",
    "# Thiết lập style chung cho biểu đồ\n",
    "sns.set(style=\"darkgrid\")\n",
    "\n",
    "# Đọc dữ liệu từ file CSV\n",
    "import pandas as pd\n",
    "df_diabetes = pd.read_csv(\"diabetes.csv\")  \n",
    "df_diabetes.head()\n",
    "\n",
    "# Xem thông tin ban đầu\n",
    "print(\"--- Dữ liệu 5 dòng đầu (trước khi làm sạch) ---\")\n",
    "print(df_diabetes.head())\n",
    "\n",
    "print(\"\\n--- Thông tin và kiểu dữ liệu (trước khi làm sạch) ---\")\n",
    "df_diabetes.info()\n",
    "\n",
    "print(f\"\\nKích thước dữ liệu ban đầu: {df_diabetes.shape}\")"
   ]
  },
  {
   "cell_type": "code",
   "execution_count": 3,
   "id": "17cf5f91-527b-42db-a9f1-176e9163c5ba",
   "metadata": {},
   "outputs": [
    {
     "name": "stdout",
     "output_type": "stream",
     "text": [
      "Tìm thấy 0 dòng bị trùng lặp.\n"
     ]
    }
   ],
   "source": [
    "# Kiểm tra số dòng bị trùng lặp\n",
    "so_dong_trung = df_diabetes.duplicated().sum()\n",
    "print(f\"Tìm thấy {so_dong_trung} dòng bị trùng lặp.\")\n",
    "\n",
    "# Loại bỏ các dòng trùng lặp (nếu có)\n",
    "if so_dong_trung > 0:\n",
    "    df_diabetes.drop_duplicates(inplace=True)\n",
    "    print(f\"Đã loại bỏ. Kích thước mới: {df_diabetes.shape}\")"
   ]
  },
  {
   "cell_type": "code",
   "execution_count": 4,
   "id": "711fd298-8f14-4184-bc72-ca8fc27b1640",
   "metadata": {},
   "outputs": [
    {
     "name": "stdout",
     "output_type": "stream",
     "text": [
      "\n",
      "--- Số lượng dữ liệu thiếu (NaN) sau khi thay thế 0 ---\n",
      "Pregnancies                   0\n",
      "Glucose                       5\n",
      "BloodPressure                35\n",
      "SkinThickness               227\n",
      "Insulin                     374\n",
      "BMI                          11\n",
      "DiabetesPedigreeFunction      0\n",
      "Age                           0\n",
      "Outcome                       0\n",
      "dtype: int64\n",
      "\n",
      "Đã điền 0 giá trị thiếu (NaN).\n"
     ]
    },
    {
     "name": "stderr",
     "output_type": "stream",
     "text": [
      "C:\\Users\\ASUS\\AppData\\Local\\Temp\\ipykernel_24004\\1564845097.py:14: FutureWarning: A value is trying to be set on a copy of a DataFrame or Series through chained assignment using an inplace method.\n",
      "The behavior will change in pandas 3.0. This inplace method will never work because the intermediate object on which we are setting values always behaves as a copy.\n",
      "\n",
      "For example, when doing 'df[col].method(value, inplace=True)', try using 'df.method({col: value}, inplace=True)' or df[col] = df[col].method(value) instead, to perform the operation inplace on the original object.\n",
      "\n",
      "\n",
      "  df_diabetes[col].fillna(median_val, inplace=True)\n"
     ]
    }
   ],
   "source": [
    "# Các cột không thể có giá trị 0\n",
    "cols_with_missing_zeros = ['Glucose', 'BloodPressure', 'SkinThickness', 'Insulin', 'BMI']\n",
    "\n",
    "# 1. Thay thế 0 bằng np.nan\n",
    "for col in cols_with_missing_zeros:\n",
    "    df_diabetes[col] = df_diabetes[col].replace(0, np.nan)\n",
    "\n",
    "print(\"\\n--- Số lượng dữ liệu thiếu (NaN) sau khi thay thế 0 ---\")\n",
    "print(df_diabetes.isnull().sum())\n",
    "\n",
    "# 2. Điền các giá trị thiếu (NaN) bằng TRUNG VỊ của mỗi cột\n",
    "for col in cols_with_missing_zeros:\n",
    "    median_val = df_diabetes[col].median()\n",
    "    df_diabetes[col].fillna(median_val, inplace=True)\n",
    "\n",
    "print(f\"\\nĐã điền {df_diabetes.isnull().sum().sum()} giá trị thiếu (NaN).\")"
   ]
  },
  {
   "cell_type": "code",
   "execution_count": 5,
   "id": "9640bfea-8ccc-4ec6-9446-037f30da2d56",
   "metadata": {},
   "outputs": [
    {
     "name": "stdout",
     "output_type": "stream",
     "text": [
      "--- Thông tin dữ liệu sau khi sửa ---\n",
      "<class 'pandas.core.frame.DataFrame'>\n",
      "RangeIndex: 768 entries, 0 to 767\n",
      "Data columns (total 9 columns):\n",
      " #   Column                    Non-Null Count  Dtype   \n",
      "---  ------                    --------------  -----   \n",
      " 0   Pregnancies               768 non-null    int64   \n",
      " 1   Glucose                   768 non-null    float64 \n",
      " 2   BloodPressure             768 non-null    float64 \n",
      " 3   SkinThickness             768 non-null    float64 \n",
      " 4   Insulin                   768 non-null    float64 \n",
      " 5   BMI                       768 non-null    float64 \n",
      " 6   DiabetesPedigreeFunction  768 non-null    float64 \n",
      " 7   Age                       768 non-null    int64   \n",
      " 8   Outcome                   768 non-null    category\n",
      "dtypes: category(1), float64(6), int64(2)\n",
      "memory usage: 49.0 KB\n"
     ]
    }
   ],
   "source": [
    "df_diabetes['Pregnancies'] = df_diabetes['Pregnancies'].astype(int)\n",
    "df_diabetes['Outcome'] = df_diabetes['Outcome'].astype('category')\n",
    "\n",
    "print(\"--- Thông tin dữ liệu sau khi sửa ---\")\n",
    "df_diabetes.info()"
   ]
  },
  {
   "cell_type": "code",
   "execution_count": 6,
   "id": "8e9c101a-3793-4991-b102-78ddefbcc2ce",
   "metadata": {},
   "outputs": [
    {
     "name": "stdout",
     "output_type": "stream",
     "text": [
      "\n",
      "--- Thống kê mô tả (sau khi làm sạch) ---\n",
      "                          count        mean        std     min        25%  \\\n",
      "Pregnancies               768.0    3.845052   3.369578   0.000    1.00000   \n",
      "Glucose                   768.0  121.656250  30.438286  44.000   99.75000   \n",
      "BloodPressure             768.0   72.386719  12.096642  24.000   64.00000   \n",
      "SkinThickness             768.0   29.108073   8.791221   7.000   25.00000   \n",
      "Insulin                   768.0  140.671875  86.383060  14.000  121.50000   \n",
      "BMI                       768.0   32.455208   6.875177  18.200   27.50000   \n",
      "DiabetesPedigreeFunction  768.0    0.471876   0.331329   0.078    0.24375   \n",
      "Age                       768.0   33.240885  11.760232  21.000   24.00000   \n",
      "\n",
      "                               50%        75%     max  \n",
      "Pregnancies                 3.0000    6.00000   17.00  \n",
      "Glucose                   117.0000  140.25000  199.00  \n",
      "BloodPressure              72.0000   80.00000  122.00  \n",
      "SkinThickness              29.0000   32.00000   99.00  \n",
      "Insulin                   125.0000  127.25000  846.00  \n",
      "BMI                        32.3000   36.60000   67.10  \n",
      "DiabetesPedigreeFunction    0.3725    0.62625    2.42  \n",
      "Age                        29.0000   41.00000   81.00  \n"
     ]
    }
   ],
   "source": [
    "print(\"\\n--- Thống kê mô tả (sau khi làm sạch) ---\")\n",
    "# T (Transpose) để xoay bảng cho dễ đọc\n",
    "print(df_diabetes.describe().T)"
   ]
  },
  {
   "cell_type": "code",
   "execution_count": 8,
   "id": "fdec993b-bc3b-48cb-9240-fd56246f7cfd",
   "metadata": {},
   "outputs": [
    {
     "name": "stdout",
     "output_type": "stream",
     "text": [
      "\n",
      "--- Phân tích thống kê chi tiết cho 'Glucose' (dùng Numpy/Stats) ---\n",
      "Mean (Trung bình): 121.66\n",
      "Median (Trung vị): 117.00\n",
      "Variance (Phương sai): 925.28\n",
      "Standard Deviation (Độ lệch chuẩn): 30.42\n",
      "Range (Khoảng giá trị): 155.00 (Từ 44.0 đến 199.0)\n",
      "Quartile 1 (Q1 - 25th): 99.75\n",
      "Quartile 2 (Q2 - 50th): 117.00\n",
      "Quartile 3 (Q3 - 75th): 140.25\n",
      "Interquartile Range (IQR): 40.50\n"
     ]
    }
   ],
   "source": [
    "# Lấy dữ liệu cột 'Glucose'\n",
    "col_data = df_diabetes['Glucose']\n",
    "\n",
    "print(f\"\\n--- Phân tích thống kê chi tiết cho 'Glucose' (dùng Numpy/Stats) ---\")\n",
    "\n",
    "# 1. Mean (Trung bình)\n",
    "print(f\"Mean (Trung bình): {np.mean(col_data):.2f}\")\n",
    "\n",
    "# 2. Median (Trung vị)\n",
    "print(f\"Median (Trung vị): {np.median(col_data):.2f}\")\n",
    "\n",
    "# 4. Variance (Phương sai)\n",
    "print(f\"Variance (Phương sai): {np.var(col_data):.2f}\")\n",
    "\n",
    "# 5. Standard Deviation (Độ lệch chuẩn)\n",
    "print(f\"Standard Deviation (Độ lệch chuẩn): {np.std(col_data):.2f}\")\n",
    "\n",
    "# 6. Range (Khoảng giá trị)\n",
    "range_val = np.ptp(col_data)\n",
    "print(f\"Range (Khoảng giá trị): {range_val:.2f} (Từ {np.min(col_data)} đến {np.max(col_data)})\")\n",
    "\n",
    "# 7. Quartile & Percentile (Tứ phân vị & Phân vị)\n",
    "q1 = np.percentile(col_data, 25) # Tứ phân vị thứ 1 (Q1)\n",
    "q2 = np.percentile(col_data, 50) # Tứ phân vị thứ 2 (Q2)\n",
    "q3 = np.percentile(col_data, 75) # Tứ phân vị thứ 3 (Q3)\n",
    "print(f\"Quartile 1 (Q1 - 25th): {q1:.2f}\")\n",
    "print(f\"Quartile 2 (Q2 - 50th): {q2:.2f}\")\n",
    "print(f\"Quartile 3 (Q3 - 75th): {q3:.2f}\")\n",
    "\n",
    "# 8. Interquartile Range (IQR)\n",
    "iqr_val = stats.iqr(col_data)\n",
    "print(f\"Interquartile Range (IQR): {iqr_val:.2f}\")"
   ]
  },
  {
   "cell_type": "code",
   "execution_count": null,
   "id": "28345384-80fe-4429-b4e2-7a74e3a1aafb",
   "metadata": {},
   "outputs": [],
   "source": []
  }
 ],
 "metadata": {
  "kernelspec": {
   "display_name": "Python 3 (ipykernel)",
   "language": "python",
   "name": "python3"
  },
  "language_info": {
   "codemirror_mode": {
    "name": "ipython",
    "version": 3
   },
   "file_extension": ".py",
   "mimetype": "text/x-python",
   "name": "python",
   "nbconvert_exporter": "python",
   "pygments_lexer": "ipython3",
   "version": "3.13.5"
  }
 },
 "nbformat": 4,
 "nbformat_minor": 5
}
