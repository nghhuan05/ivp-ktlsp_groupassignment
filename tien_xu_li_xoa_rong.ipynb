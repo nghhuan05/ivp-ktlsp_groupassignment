{
 "cells": [
  {
   "cell_type": "code",
   "execution_count": 1,
   "id": "815bcbca-5d2d-4c8a-b1d4-c8827f812f37",
   "metadata": {},
   "outputs": [],
   "source": [
    "import pandas as pd\n",
    "import numpy as np  # ⚠️ Sửa: Thêm thư viện numpy để xử lý NaN\n",
    "from sklearn.preprocessing import StandardScaler"
   ]
  },
  {
   "cell_type": "code",
   "execution_count": 2,
   "id": "8c743d09-471c-43f2-8cc1-8a30a10af4ad",
   "metadata": {},
   "outputs": [],
   "source": [
    "# --- 1. Đọc dữ liệu ---\n",
    "file_path = \"Data 30.xlsx\"  # đổi tên nếu khác\n",
    "df = pd.read_excel(file_path, sheet_name=\"FINAL\")"
   ]
  },
  {
   "cell_type": "code",
   "execution_count": 3,
   "id": "b0b88bfd-112f-4b68-9344-e9d399fc9692",
   "metadata": {},
   "outputs": [],
   "source": [
    "# --- 2. Lựa chọn cột và đổi tên cột bị lỗi ---\n",
    "# ⚠️ Sửa: Cột 'Source.Name' trong file bị lỗi 'Source.NaE6e', ta sẽ chọn và đổi tên\n",
    "df = df.rename(columns={'Source.NaE6e': 'Source.Name'})"
   ]
  },
  {
   "cell_type": "code",
   "execution_count": 4,
   "id": "9c0c803c-5c2d-453f-93d3-7652867ddc88",
   "metadata": {},
   "outputs": [],
   "source": [
    "# Chọn các cột cần thiết\n",
    "df = df[['Source.Name', 'Date', 'Price', 'Open', 'High', 'Low', 'Vol.', 'Change %']]\n",
    "\n",
    "# --- 3. Làm sạch dữ liệu ---\n",
    "df['Date'] = pd.to_datetime(df['Date'], errors='coerce')"
   ]
  },
  {
   "cell_type": "code",
   "execution_count": 5,
   "id": "b0223684-d775-471a-bb97-6294459695c9",
   "metadata": {},
   "outputs": [],
   "source": [
    "# ⚠️ Sửa: Cột 'Change %' đã là số, không cần .str.replace('%')\n",
    "df['Change %'] = pd.to_numeric(df['Change %'], errors='coerce')"
   ]
  },
  {
   "cell_type": "code",
   "execution_count": 6,
   "id": "98ca3b74-c80f-4fed-a10f-8d214807ca6a",
   "metadata": {},
   "outputs": [],
   "source": [
    "# ⚠️ Sửa: Đảm bảo các cột giá khác cũng là số (an toàn hơn)\n",
    "df['Price'] = pd.to_numeric(df['Price'], errors='coerce')\n",
    "df['Open'] = pd.to_numeric(df['Open'], errors='coerce')\n",
    "df['High'] = pd.to_numeric(df['High'], errors='coerce')\n",
    "df['Low'] = pd.to_numeric(df['Low'], errors='coerce')"
   ]
  },
  {
   "cell_type": "code",
   "execution_count": 7,
   "id": "01a3e13e-f50e-4d42-90c4-58c949c1f9eb",
   "metadata": {},
   "outputs": [],
   "source": [
    "# Xóa các dòng có giá trị rỗng (sau khi chuyển đổi)\n",
    "df = df.dropna(subset=['Date', 'Price', 'Open', 'High', 'Low', 'Vol.', 'Change %'])\n",
    "df = df.drop_duplicates()"
   ]
  },
  {
   "cell_type": "code",
   "execution_count": 9,
   "id": "1dc40a0f-df77-4bfd-afb4-75ac7816fc9c",
   "metadata": {},
   "outputs": [
    {
     "name": "stdout",
     "output_type": "stream",
     "text": [
      "✅ File tiền xử lý đã lưu tại: D:\\Python\\FINAL\\VN30_preprocessed 2.xlsx\n"
     ]
    }
   ],
   "source": [
    "# --- 7. Xuất file kết quả ---\n",
    "output_path = r\"D:\\Python\\FINAL\\VN30_preprocessed 2.xlsx\"\n",
    "df.to_excel(output_path, index=False)\n",
    "\n",
    "print(f\"✅ File tiền xử lý đã lưu tại: {output_path}\")"
   ]
  },
  {
   "cell_type": "code",
   "execution_count": null,
   "id": "a80f768b-bf2a-4fca-970a-4afd2b7f6c44",
   "metadata": {},
   "outputs": [],
   "source": []
  }
 ],
 "metadata": {
  "kernelspec": {
   "display_name": "Python 3 (ipykernel)",
   "language": "python",
   "name": "python3"
  },
  "language_info": {
   "codemirror_mode": {
    "name": "ipython",
    "version": 3
   },
   "file_extension": ".py",
   "mimetype": "text/x-python",
   "name": "python",
   "nbconvert_exporter": "python",
   "pygments_lexer": "ipython3",
   "version": "3.13.5"
  }
 },
 "nbformat": 4,
 "nbformat_minor": 5
}
