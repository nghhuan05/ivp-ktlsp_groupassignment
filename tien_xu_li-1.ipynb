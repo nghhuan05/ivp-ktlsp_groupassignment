{
 "cells": [
  {
   "cell_type": "code",
   "execution_count": 1,
   "id": "1dadbe91-f942-44ea-a22c-d99722eac2d3",
   "metadata": {},
   "outputs": [],
   "source": [
    "import pandas as pd\n",
    "import numpy as np  # ⚠️ Sửa: Thêm thư viện numpy để xử lý NaN\n",
    "from sklearn.preprocessing import StandardScaler"
   ]
  },
  {
   "cell_type": "code",
   "execution_count": 3,
   "id": "e628a235-cea1-4a0b-ae5d-41bc8da2de89",
   "metadata": {},
   "outputs": [],
   "source": [
    "# --- 1. Đọc dữ liệu ---\n",
    "file_path = \"Data 30.xlsx\"  # đổi tên nếu khác\n",
    "df = pd.read_excel(file_path, sheet_name=\"FINAL\")\n"
   ]
  },
  {
   "cell_type": "code",
   "execution_count": 4,
   "id": "3d2d63c4-b795-446b-b784-549875a66ef9",
   "metadata": {},
   "outputs": [],
   "source": [
    "# --- 2. Lựa chọn cột và đổi tên cột bị lỗi ---\n",
    "# ⚠️ Sửa: Cột 'Source.Name' trong file bị lỗi 'Source.NaE6e', ta sẽ chọn và đổi tên\n",
    "df = df.rename(columns={'Source.NaE6e': 'Source.Name'})"
   ]
  },
  {
   "cell_type": "code",
   "execution_count": 5,
   "id": "630703be-90ec-46c5-9ff0-dc45b7bd5728",
   "metadata": {},
   "outputs": [],
   "source": [
    "# Chọn các cột cần thiết\n",
    "df = df[['Source.Name', 'Date', 'Price', 'Open', 'High', 'Low', 'Vol.', 'Change %']]\n",
    "\n",
    "# --- 3. Làm sạch dữ liệu ---\n",
    "df['Date'] = pd.to_datetime(df['Date'], errors='coerce')"
   ]
  },
  {
   "cell_type": "code",
   "execution_count": 7,
   "id": "0d0ab6a4-81b1-4aad-8bc2-555a516ff618",
   "metadata": {},
   "outputs": [],
   "source": [
    "\n",
    "\n",
    "# ⚠️ Sửa: Cột 'Change %' đã là số, không cần .str.replace('%')\n",
    "df['Change %'] = pd.to_numeric(df['Change %'], errors='coerce')"
   ]
  },
  {
   "cell_type": "code",
   "execution_count": 8,
   "id": "4aac28e5-c466-4e39-ab3c-04fae74f37d0",
   "metadata": {},
   "outputs": [],
   "source": [
    "# ⚠️ Sửa: Đảm bảo các cột giá khác cũng là số (an toàn hơn)\n",
    "df['Price'] = pd.to_numeric(df['Price'], errors='coerce')\n",
    "df['Open'] = pd.to_numeric(df['Open'], errors='coerce')\n",
    "df['High'] = pd.to_numeric(df['High'], errors='coerce')\n",
    "df['Low'] = pd.to_numeric(df['Low'], errors='coerce')"
   ]
  },
  {
   "cell_type": "code",
   "execution_count": 9,
   "id": "62f380e3-47ef-4ead-ac2b-3e84c6960043",
   "metadata": {},
   "outputs": [],
   "source": [
    "# Xóa các dòng có giá trị rỗng (sau khi chuyển đổi)\n",
    "df = df.dropna(subset=['Date', 'Price', 'Open', 'High', 'Low', 'Vol.', 'Change %'])\n",
    "df = df.drop_duplicates()"
   ]
  },
  {
   "cell_type": "code",
   "execution_count": 10,
   "id": "19f0bf59-4b0c-46df-9f01-5e1a8346c29b",
   "metadata": {},
   "outputs": [],
   "source": [
    "# --- 4. Tạo biến đặc trưng mới ---\n",
    "# (Phần này giữ nguyên, giờ sẽ hoạt động vì dữ liệu đã sạch)\n",
    "df['Daily Range'] = df['High'] - df['Low']\n",
    "df = df.sort_values(by=['Source.Name', 'Date'])\n",
    "df['Next_Price'] = df.groupby('Source.Name')['Price'].shift(-1)\n",
    "df['Target'] = (df['Next_Price'] > df['Price']).astype(int)  # 1 nếu giá tăng, 0 nếu giảm"
   ]
  },
  {
   "cell_type": "code",
   "execution_count": 11,
   "id": "5554ac00-0bed-480a-81f5-736aee06933c",
   "metadata": {},
   "outputs": [],
   "source": [
    "# --- 5. Tổng hợp dữ liệu trung bình theo mã cổ phiếu ---\n",
    "# (Phần này giữ nguyên, giờ sẽ hoạt động)\n",
    "df_mean = df.groupby('Source.Name').agg({\n",
    "    'Price':'mean',\n",
    "    'Vol.':'mean',\n",
    "    'Change %':'mean',\n",
    "    'Daily Range':'mean'\n",
    "}).reset_index()"
   ]
  },
  {
   "cell_type": "code",
   "execution_count": 12,
   "id": "51a95270-f408-4c4b-b036-e2c9175d84c8",
   "metadata": {},
   "outputs": [],
   "source": [
    "# --- 6. Chuẩn hóa dữ liệu số ---\n",
    "# (Phần này giữ nguyên)\n",
    "scaler = StandardScaler()\n",
    "scaled_values = scaler.fit_transform(df_mean[['Price','Vol.','Change %','Daily Range']])\n",
    "df_scaled = pd.DataFrame(scaled_values, columns=['Price_scaled','Vol_scaled','Change_scaled','Range_scaled'])\n",
    "df_preprocessed = pd.concat([df_mean['Source.Name'], df_scaled], axis=1)"
   ]
  },
  {
   "cell_type": "code",
   "execution_count": 14,
   "id": "2b5b26dc-bf64-4d89-ac7a-696220aeccb2",
   "metadata": {},
   "outputs": [
    {
     "name": "stdout",
     "output_type": "stream",
     "text": [
      "✅ File tiền xử lý đã lưu tại: D:\\Python\\FINAL\\VN30_preprocessed.xlsx\n"
     ]
    }
   ],
   "source": [
    "# --- 7. Xuất file kết quả ---\n",
    "output_path = r\"D:\\Python\\FINAL\\VN30_preprocessed.xlsx\"\n",
    "df_preprocessed.to_excel(output_path, index=False)\n",
    "\n",
    "print(f\"✅ File tiền xử lý đã lưu tại: {output_path}\")"
   ]
  },
  {
   "cell_type": "code",
   "execution_count": null,
   "id": "23bf424a-92d6-4fba-bf40-8b25654c38ad",
   "metadata": {},
   "outputs": [],
   "source": []
  }
 ],
 "metadata": {
  "kernelspec": {
   "display_name": "Python 3 (ipykernel)",
   "language": "python",
   "name": "python3"
  },
  "language_info": {
   "codemirror_mode": {
    "name": "ipython",
    "version": 3
   },
   "file_extension": ".py",
   "mimetype": "text/x-python",
   "name": "python",
   "nbconvert_exporter": "python",
   "pygments_lexer": "ipython3",
   "version": "3.13.5"
  }
 },
 "nbformat": 4,
 "nbformat_minor": 5
}
